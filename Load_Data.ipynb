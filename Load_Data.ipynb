{
 "cells": [
  {
   "cell_type": "code",
   "execution_count": 105,
   "metadata": {},
   "outputs": [],
   "source": [
    "import scipy.io as sio\n",
    "import numpy as np\n",
    "import mne\n",
    "import matplotlib.pyplot as plt\n",
    "import networkx as nx\n",
    "import bct"
   ]
  },
  {
   "cell_type": "code",
   "execution_count": 7,
   "metadata": {},
   "outputs": [],
   "source": [
    "eegDataMain = sio.loadmat('Data/first_ten_eeg.mat')\n",
    "eegData = eegDataMain['first_ten_eeg']\n",
    "eegParams = eegDataMain['params']"
   ]
  },
  {
   "cell_type": "code",
   "execution_count": 40,
   "metadata": {},
   "outputs": [],
   "source": [
    "metaData = sio.loadmat('Data/metadata.mat')['metadata']"
   ]
  },
  {
   "cell_type": "code",
   "execution_count": 67,
   "metadata": {},
   "outputs": [],
   "source": [
    "a = [f for f in ((metaData[0,0])[0][0])]"
   ]
  },
  {
   "cell_type": "code",
   "execution_count": 189,
   "metadata": {},
   "outputs": [],
   "source": [
    "def get_graph(data):\n",
    "    [conn,freqs,times,m_ep,n_tapers] = mne.connectivity.spectral_connectivity([data],method='coh', verbose=False,\n",
    "                                                            faverage=True,sfreq=100,fmin=(4,20), fmax=(13,30))\n",
    "    return (conn[:,:,0],conn[:,:,1])\n",
    "    \n",
    "\n",
    "def avg_clustering(graph):\n",
    "    complete_graph = graph+graph.T\n",
    "    clustering_coeffs = bct.clustering_coef_wu(complete_graph)\n",
    "#     clustering_coeffs = bct.efficiency_wei(complete_graph)\n",
    "    avg_clustering = np.nanmean(clustering_coeffs)\n",
    "    return avg_clustering\n",
    "\n",
    "def global_efficiency(graph):\n",
    "    complete_graph = graph+graph.T\n",
    "#     clustering_coeffs = bct.clustering_coef_wu(complete_graph)\n",
    "    global_coeff = bct.efficiency_wei(complete_graph, local=False)\n",
    "    return global_coeff"
   ]
  },
  {
   "cell_type": "code",
   "execution_count": 206,
   "metadata": {},
   "outputs": [],
   "source": [
    "sub = 8\n",
    "\n",
    "nTrials = np.shape(eegData)[2]\n",
    "# nTrials = 1\n",
    "theta_vals = np.zeros(nTrials)\n",
    "alpha_vals = np.zeros(nTrials)\n",
    "\n",
    "\n",
    "for trial in range(nTrials):\n",
    "#     pre_stim = eegData[sub,:,trial,:200]\n",
    "    post_stim = eegData[sub,:,trial,200:]\n",
    "    \n",
    "    theta_graph,alpha_graph = get_graph(post_stim)\n",
    "    theta_vals[trial] = global_efficiency(theta_graph)\n",
    "    alpha_vals[trial] = global_efficiency(alpha_graph)\n",
    "    \n",
    "\n"
   ]
  },
  {
   "cell_type": "code",
   "execution_count": 207,
   "metadata": {},
   "outputs": [
    {
     "data": {
      "image/png": "[encoded data removed]",
      "text/plain": [
       "<Figure size 432x288 with 1 Axes>"
      ]
     },
     "metadata": {
      "needs_background": "light"
     },
     "output_type": "display_data"
    }
   ],
   "source": [
    "plt.figure()\n",
    "plt.hist(alpha_vals,20, facecolor='r')\n",
    "plt.hist(theta_vals,20, facecolor='k')\n",
    "\n",
    "plt.show()"
   ]
  },
  {
   "cell_type": "code",
   "execution_count": 209,
   "metadata": {},
   "outputs": [
    {
     "data": {
      "text/plain": [
       "0.485110949326028"
      ]
     },
     "execution_count": 209,
     "metadata": {},
     "output_type": "execute_result"
    }
   ],
   "source": [
    "np.mean(alpha_vals)"
   ]
  },
  {
   "cell_type": "code",
   "execution_count": 167,
   "metadata": {},
   "outputs": [],
   "source": [
    "?bct.efficiency_wei"
   ]
  },
  {
   "cell_type": "code",
   "execution_count": 187,
   "metadata": {},
   "outputs": [],
   "source": [
    "a=get_graph(pre_stim)\n",
    "\n"
   ]
  },
  {
   "cell_type": "code",
   "execution_count": 212,
   "metadata": {},
   "outputs": [
    {
     "data": {
      "text/plain": [
       "[array([ 4. ,  4.2,  4.4,  4.6,  4.8,  5. ,  5.2,  5.4,  5.6,  5.8,  6. ,\n",
       "         6.2,  6.4,  6.6,  6.8,  7. ,  7.2,  7.4,  7.6,  7.8,  8. ,  8.2,\n",
       "         8.4,  8.6,  8.8,  9. ,  9.2,  9.4,  9.6,  9.8, 10. , 10.2, 10.4,\n",
       "        10.6, 10.8, 11. , 11.2, 11.4, 11.6, 11.8, 12. , 12.2, 12.4, 12.6,\n",
       "        12.8, 13. ]),\n",
       " array([20. , 20.2, 20.4, 20.6, 20.8, 21. , 21.2, 21.4, 21.6, 21.8, 22. ,\n",
       "        22.2, 22.4, 22.6, 22.8, 23. , 23.2, 23.4, 23.6, 23.8, 24. , 24.2,\n",
       "        24.4, 24.6, 24.8, 25. , 25.2, 25.4, 25.6, 25.8, 26. , 26.2, 26.4,\n",
       "        26.6, 26.8, 27. , 27.2, 27.4, 27.6, 27.8, 28. , 28.2, 28.4, 28.6,\n",
       "        28.8, 29. , 29.2, 29.4, 29.6, 29.8, 30. ])]"
      ]
     },
     "execution_count": 212,
     "metadata": {},
     "output_type": "execute_result"
    }
   ],
   "source": [
    "data=eegData[sub,:,10,200:]\n",
    "[conn,freqs,times,m_ep,n_tapers] = mne.connectivity.spectral_connectivity([data],method='coh', verbose=False,\n",
    "                faverage=True,sfreq=100,fmin=(4,20), fmax=(13,30))\n",
    "\n",
    "\n",
    "freqs"
   ]
  },
  {
   "cell_type": "code",
   "execution_count": 134,
   "metadata": {},
   "outputs": [
    {
     "data": {
      "image/png": "[encoded data removed]",
      "text/plain": [
       "<Figure size 432x288 with 1 Axes>"
      ]
     },
     "metadata": {
      "needs_background": "light"
     },
     "output_type": "display_data"
    }
   ],
   "source": [
    "plt.figure()\n",
    "plt.imshow(complete_graph,cmap='OrRd')\n",
    "plt.show()"
   ]
  },
  {
   "cell_type": "code",
   "execution_count": 130,
   "metadata": {},
   "outputs": [],
   "source": [
    "G = networkx.from_numpy_matrix(graph)"
   ]
  },
  {
   "cell_type": "code",
   "execution_count": 94,
   "metadata": {},
   "outputs": [
    {
     "ename": "AttributeError",
     "evalue": "module 'matplotlib.cbook' has no attribute 'is_string_like'",
     "output_type": "error",
     "traceback": [
      "\u001b[0;31m---------------------------------------------------------------------------\u001b[0m",
      "\u001b[0;31mAttributeError\u001b[0m                            Traceback (most recent call last)",
      "\u001b[0;32m<ipython-input-94-8383fd8b7de3>\u001b[0m in \u001b[0;36m<module>\u001b[0;34m\u001b[0m\n\u001b[1;32m     11\u001b[0m                        width=6)\n\u001b[1;32m     12\u001b[0m nx.draw_networkx_edges(G, pos, edgelist=esmall,\n\u001b[0;32m---> 13\u001b[0;31m                        width=6)\n\u001b[0m\u001b[1;32m     14\u001b[0m \u001b[0;34m\u001b[0m\u001b[0m\n\u001b[1;32m     15\u001b[0m \u001b[0;31m# labels\u001b[0m\u001b[0;34m\u001b[0m\u001b[0;34m\u001b[0m\u001b[0m\n",
      "\u001b[0;32m//anaconda/lib/python3.5/site-packages/networkx/drawing/nx_pylab.py\u001b[0m in \u001b[0;36mdraw_networkx_edges\u001b[0;34m(G, pos, edgelist, width, edge_color, style, alpha, edge_cmap, edge_vmin, edge_vmax, ax, arrows, label, **kwds)\u001b[0m\n\u001b[1;32m    520\u001b[0m         \u001b[0mlw\u001b[0m \u001b[0;34m=\u001b[0m \u001b[0mwidth\u001b[0m\u001b[0;34m\u001b[0m\u001b[0m\n\u001b[1;32m    521\u001b[0m \u001b[0;34m\u001b[0m\u001b[0m\n\u001b[0;32m--> 522\u001b[0;31m     \u001b[0;32mif\u001b[0m \u001b[0;32mnot\u001b[0m \u001b[0mcb\u001b[0m\u001b[0;34m.\u001b[0m\u001b[0mis_string_like\u001b[0m\u001b[0;34m(\u001b[0m\u001b[0medge_color\u001b[0m\u001b[0;34m)\u001b[0m\u001b[0;31m \u001b[0m\u001b[0;31m\\\u001b[0m\u001b[0;34m\u001b[0m\u001b[0m\n\u001b[0m\u001b[1;32m    523\u001b[0m            \u001b[0;32mand\u001b[0m \u001b[0mcb\u001b[0m\u001b[0;34m.\u001b[0m\u001b[0miterable\u001b[0m\u001b[0;34m(\u001b[0m\u001b[0medge_color\u001b[0m\u001b[0;34m)\u001b[0m\u001b[0;31m \u001b[0m\u001b[0;31m\\\u001b[0m\u001b[0;34m\u001b[0m\u001b[0m\n\u001b[1;32m    524\u001b[0m            \u001b[0;32mand\u001b[0m \u001b[0mlen\u001b[0m\u001b[0;34m(\u001b[0m\u001b[0medge_color\u001b[0m\u001b[0;34m)\u001b[0m \u001b[0;34m==\u001b[0m \u001b[0mlen\u001b[0m\u001b[0;34m(\u001b[0m\u001b[0medge_pos\u001b[0m\u001b[0;34m)\u001b[0m\u001b[0;34m:\u001b[0m\u001b[0;34m\u001b[0m\u001b[0m\n",
      "\u001b[0;31mAttributeError\u001b[0m: module 'matplotlib.cbook' has no attribute 'is_string_like'"
     ]
    },
    {
     "data": {
      "image/png": "[encoded data removed]",
      "text/plain": [
       "<Figure size 432x288 with 1 Axes>"
      ]
     },
     "metadata": {
      "needs_background": "light"
     },
     "output_type": "display_data"
    }
   ],
   "source": [
    "elarge = [(u, v) for (u, v, d) in G.edges(data=True) if d['weight'] > 0.5]\n",
    "esmall = [(u, v) for (u, v, d) in G.edges(data=True) if d['weight'] <= 0.5]\n",
    "\n",
    "pos = nx.spring_layout(G)  # positions for all nodes\n",
    "\n",
    "# nodes\n",
    "nx.draw_networkx_nodes(G, pos, node_size=700)\n",
    "\n",
    "# edges\n",
    "nx.draw_networkx_edges(G, pos, edgelist=elarge,\n",
    "                       width=6)\n",
    "nx.draw_networkx_edges(G, pos, edgelist=esmall,\n",
    "                       width=6)\n",
    "\n",
    "# labels\n",
    "nx.draw_networkx_labels(G, pos, font_size=20, font_family='sans-serif')\n",
    "\n",
    "plt.axis('off')\n",
    "plt.show()"
   ]
  },
  {
   "cell_type": "code",
   "execution_count": 87,
   "metadata": {},
   "outputs": [
    {
     "ename": "TypeError",
     "evalue": "clustering() got an unexpected keyword argument 'edges'",
     "output_type": "error",
     "traceback": [
      "\u001b[0;31m---------------------------------------------------------------------------\u001b[0m",
      "\u001b[0;31mTypeError\u001b[0m                                 Traceback (most recent call last)",
      "\u001b[0;32m<ipython-input-87-9d6198295736>\u001b[0m in \u001b[0;36m<module>\u001b[0;34m\u001b[0m\n\u001b[0;32m----> 1\u001b[0;31m \u001b[0mnetworkx\u001b[0m\u001b[0;34m.\u001b[0m\u001b[0mclustering\u001b[0m\u001b[0;34m(\u001b[0m\u001b[0mG\u001b[0m\u001b[0;34m,\u001b[0m \u001b[0medges\u001b[0m\u001b[0;34m=\u001b[0m\u001b[0mG\u001b[0m\u001b[0;34m.\u001b[0m\u001b[0medges\u001b[0m\u001b[0;34m)\u001b[0m\u001b[0;34m\u001b[0m\u001b[0m\n\u001b[0m",
      "\u001b[0;31mTypeError\u001b[0m: clustering() got an unexpected keyword argument 'edges'"
     ]
    }
   ],
   "source": [
    "nx.clustering(G, edges=G.edges)"
   ]
  },
  {
   "cell_type": "code",
   "execution_count": 185,
   "metadata": {},
   "outputs": [
    {
     "data": {
      "text/plain": [
       "(42, 42, 40)"
      ]
     },
     "execution_count": 185,
     "metadata": {},
     "output_type": "execute_result"
    }
   ],
   "source": [
    "np.shape(a)"
   ]
  },
  {
   "cell_type": "code",
   "execution_count": 175,
   "metadata": {},
   "outputs": [
    {
     "data": {
      "text/plain": [
       "array([0.0448799 , 0.05385587, 0.06283185, 0.07180783, 0.08078381,\n",
       "       0.08975979, 0.09873577, 0.10771175, 0.11668773, 0.12566371,\n",
       "       0.13463969, 0.14361566, 0.15259164, 0.16156762, 0.1705436 ,\n",
       "       0.17951958, 0.18849556, 0.19747154, 0.20644752, 0.2154235 ,\n",
       "       0.22439948, 0.23337545, 0.24235143, 0.25132741, 0.26030339,\n",
       "       0.26927937, 0.27825535, 0.28723133, 0.29620731, 0.30518329,\n",
       "       0.31415927, 0.32313524, 0.33211122, 0.3410872 , 0.35006318,\n",
       "       0.35903916, 0.36801514, 0.37699112, 0.3859671 , 0.39494308,\n",
       "       0.40391906, 0.41289503, 0.42187101, 0.43084699, 0.43982297,\n",
       "       0.44879895, 0.45777493, 0.46675091, 0.47572689, 0.48470287,\n",
       "       0.49367885, 0.50265482, 0.5116308 , 0.52060678, 0.52958276,\n",
       "       0.53855874, 0.54753472, 0.5565107 , 0.56548668, 0.57446266,\n",
       "       0.58343864, 0.59241461, 0.60139059, 0.61036657, 0.61934255,\n",
       "       0.62831853, 0.63729451, 0.64627049, 0.65524647, 0.66422245,\n",
       "       0.67319843, 0.6821744 , 0.69115038, 0.70012636, 0.70910234,\n",
       "       0.71807832, 0.7270543 , 0.73603028, 0.74500626, 0.75398224,\n",
       "       0.76295822, 0.77193419, 0.78091017, 0.78988615, 0.79886213,\n",
       "       0.80783811, 0.81681409, 0.82579007, 0.83476605, 0.84374203,\n",
       "       0.85271801, 0.86169398, 0.87066996, 0.87964594, 0.88862192,\n",
       "       0.8975979 , 0.90657388, 0.91554986, 0.92452584, 0.93350182,\n",
       "       0.9424778 , 0.95145378, 0.96042975, 0.96940573, 0.97838171,\n",
       "       0.98735769, 0.99633367, 1.00530965, 1.01428563, 1.02326161,\n",
       "       1.03223759, 1.04121357, 1.05018954, 1.05916552, 1.0681415 ,\n",
       "       1.07711748, 1.08609346, 1.09506944, 1.10404542, 1.1130214 ,\n",
       "       1.12199738, 1.13097336, 1.13994933, 1.14892531, 1.15790129,\n",
       "       1.16687727, 1.17585325, 1.18482923, 1.19380521, 1.20278119,\n",
       "       1.21175717, 1.22073315, 1.22970912, 1.2386851 , 1.24766108,\n",
       "       1.25663706, 1.26561304, 1.27458902, 1.283565  , 1.29254098,\n",
       "       1.30151696, 1.31049294, 1.31946891, 1.32844489, 1.33742087,\n",
       "       1.34639685, 1.35537283, 1.36434881, 1.37332479, 1.38230077,\n",
       "       1.39127675, 1.40025273, 1.4092287 , 1.41820468, 1.42718066,\n",
       "       1.43615664, 1.44513262, 1.4541086 , 1.46308458, 1.47206056,\n",
       "       1.48103654, 1.49001252, 1.49898849, 1.50796447, 1.51694045,\n",
       "       1.52591643, 1.53489241, 1.54386839, 1.55284437, 1.56182035,\n",
       "       1.57079633, 1.57977231, 1.58874828, 1.59772426, 1.60670024,\n",
       "       1.61567622, 1.6246522 , 1.63362818, 1.64260416, 1.65158014,\n",
       "       1.66055612, 1.6695321 , 1.67850807, 1.68748405, 1.69646003,\n",
       "       1.70543601, 1.71441199, 1.72338797, 1.73236395, 1.74133993,\n",
       "       1.75031591, 1.75929189, 1.76826787, 1.77724384, 1.78621982,\n",
       "       1.7951958 , 1.80417178, 1.81314776, 1.82212374, 1.83109972,\n",
       "       1.8400757 , 1.84905168, 1.85802766, 1.86700363, 1.87597961,\n",
       "       1.88495559, 1.89393157, 1.90290755, 1.91188353, 1.92085951,\n",
       "       1.92983549, 1.93881147, 1.94778745, 1.95676342, 1.9657394 ,\n",
       "       1.97471538, 1.98369136, 1.99266734, 2.00164332, 2.0106193 ,\n",
       "       2.01959528, 2.02857126, 2.03754724, 2.04652321, 2.05549919,\n",
       "       2.06447517, 2.07345115, 2.08242713, 2.09140311, 2.10037909,\n",
       "       2.10935507, 2.11833105, 2.12730703, 2.136283  , 2.14525898,\n",
       "       2.15423496, 2.16321094, 2.17218692, 2.1811629 , 2.19013888,\n",
       "       2.19911486, 2.20809084, 2.21706682, 2.22604279, 2.23501877,\n",
       "       2.24399475, 2.25297073, 2.26194671, 2.27092269, 2.27989867,\n",
       "       2.28887465, 2.29785063, 2.30682661, 2.31580258, 2.32477856,\n",
       "       2.33375454, 2.34273052, 2.3517065 , 2.36068248, 2.36965846,\n",
       "       2.37863444, 2.38761042, 2.3965864 , 2.40556237, 2.41453835,\n",
       "       2.42351433, 2.43249031, 2.44146629, 2.45044227, 2.45941825,\n",
       "       2.46839423, 2.47737021, 2.48634619, 2.49532216, 2.50429814,\n",
       "       2.51327412, 2.5222501 , 2.53122608, 2.54020206, 2.54917804,\n",
       "       2.55815402, 2.56713   , 2.57610598, 2.58508195, 2.59405793,\n",
       "       2.60303391, 2.61200989, 2.62098587, 2.62996185, 2.63893783,\n",
       "       2.64791381, 2.65688979, 2.66586577, 2.67484175, 2.68381772,\n",
       "       2.6927937 , 2.70176968, 2.71074566, 2.71972164, 2.72869762,\n",
       "       2.7376736 , 2.74664958, 2.75562556, 2.76460154, 2.77357751,\n",
       "       2.78255349, 2.79152947, 2.80050545, 2.80948143, 2.81845741,\n",
       "       2.82743339, 2.83640937, 2.84538535, 2.85436133, 2.8633373 ,\n",
       "       2.87231328, 2.88128926, 2.89026524, 2.89924122, 2.9082172 ,\n",
       "       2.91719318, 2.92616916, 2.93514514, 2.94412112, 2.95309709,\n",
       "       2.96207307, 2.97104905, 2.98002503, 2.98900101, 2.99797699,\n",
       "       3.00695297, 3.01592895, 3.02490493, 3.03388091, 3.04285688,\n",
       "       3.05183286, 3.06080884, 3.06978482, 3.0787608 , 3.08773678,\n",
       "       3.09671276, 3.10568874, 3.11466472, 3.1236407 , 3.13261667,\n",
       "       3.14159265])"
      ]
     },
     "execution_count": 175,
     "metadata": {},
     "output_type": "execute_result"
    }
   ],
   "source": [
    "freqs"
   ]
  },
  {
   "cell_type": "code",
   "execution_count": 132,
   "metadata": {},
   "outputs": [],
   "source": []
  },
  {
   "cell_type": "code",
   "execution_count": 133,
   "metadata": {},
   "outputs": [
    {
     "data": {
      "text/plain": [
       "0.444656711669144"
      ]
     },
     "execution_count": 133,
     "metadata": {},
     "output_type": "execute_result"
    }
   ],
   "source": [
    "avg_clustering"
   ]
  },
  {
   "cell_type": "code",
   "execution_count": 126,
   "metadata": {},
   "outputs": [
    {
     "data": {
      "text/plain": [
       "array([[ 0.        ,  0.03017852,  0.05820229, ..., -0.17126392,\n",
       "         0.14659706,  0.09230171],\n",
       "       [ 0.03017852,  0.        ,  0.01426388, ..., -0.13153707,\n",
       "         0.07259609,  0.08129815],\n",
       "       [ 0.05820229,  0.01426388,  0.        , ..., -0.05936239,\n",
       "        -0.01248571,  0.02858883],\n",
       "       ...,\n",
       "       [-0.17126392, -0.13153707, -0.05936239, ...,  0.        ,\n",
       "         0.25064714,  0.04675892],\n",
       "       [ 0.14659706,  0.07259609, -0.01248571, ...,  0.25064714,\n",
       "         0.        ,  0.05188048],\n",
       "       [ 0.09230171,  0.08129815,  0.02858883, ...,  0.04675892,\n",
       "         0.05188048,  0.        ]])"
      ]
     },
     "execution_count": 126,
     "metadata": {},
     "output_type": "execute_result"
    }
   ],
   "source": [
    "complete_graph"
   ]
  },
  {
   "cell_type": "code",
   "execution_count": null,
   "metadata": {},
   "outputs": [],
   "source": []
  }
 ],
 "metadata": {
  "kernelspec": {
   "display_name": "Python [anaconda]",
   "language": "python",
   "name": "Python [anaconda]"
  },
  "language_info": {
   "codemirror_mode": {
    "name": "ipython",
    "version": 3
   },
   "file_extension": ".py",
   "mimetype": "text/x-python",
   "name": "python",
   "nbconvert_exporter": "python",
   "pygments_lexer": "ipython3",
   "version": "3.5.6"
  }
 },
 "nbformat": 4,
 "nbformat_minor": 2
}
